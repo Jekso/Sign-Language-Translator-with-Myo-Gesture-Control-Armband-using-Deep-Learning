{
 "cells": [
  {
   "cell_type": "code",
   "execution_count": null,
   "metadata": {},
   "outputs": [],
   "source": [
    "import numpy as np\n",
    "import pandas as pd\n",
    "from keras.models import load_model\n",
    "from sklearn.preprocessing import StandardScaler\n",
    "import pickle\n",
    "import collections\n",
    "import myo\n",
    "import threading\n",
    "import time"
   ]
  },
  {
   "cell_type": "code",
   "execution_count": null,
   "metadata": {},
   "outputs": [],
   "source": [
    "class Listener(myo.DeviceListener):\n",
    "    def __init__(self, queue_size=8):\n",
    "        self.lock = threading.Lock()\n",
    "        self.emg_data_queue = collections.deque(maxlen=queue_size)\n",
    "\n",
    "    def on_connected(self, event):\n",
    "        event.device.stream_emg(True)\n",
    "\n",
    "    def on_emg(self, event):\n",
    "        with self.lock:\n",
    "            self.emg_data_queue.append(event.emg)\n",
    "            \n",
    "    def data_clear(self):\n",
    "        with self.lock:\n",
    "            self.emg_data_queue.clear()\n",
    "            \n",
    "    def data_size():\n",
    "        return len(self.emg_data_queue)\n",
    "\n",
    "    def get_emg_data(self):\n",
    "        with self.lock:\n",
    "            return list(self.emg_data_queue)"
   ]
  },
  {
   "cell_type": "code",
   "execution_count": null,
   "metadata": {
    "collapsed": true
   },
   "outputs": [],
   "source": [
    "def myo_sign_language_predict(myo_emg_input):    \n",
    "    scaler = pickle.load(open('model_checkpoints/scaler.sav', 'rb'))\n",
    "    myo_emg_input = scaler.transform([myo_emg_input])\n",
    "    model = load_model('model_checkpoints/my_model.h5')\n",
    "    print('Pridicted Number is : ' + str(model.predict_classes(myo_emg_input)[0]))"
   ]
  },
  {
   "cell_type": "code",
   "execution_count": null,
   "metadata": {
    "collapsed": true
   },
   "outputs": [],
   "source": [
    "myo.init()\n",
    "hub = myo.Hub()\n",
    "listener = Listener(512)\n",
    "\n",
    "try:\n",
    "    threading.Thread(target=lambda: hub.run_forever(listener.on_event)).start()\n",
    "    while True:\n",
    "        if listener.data_size() == 64:\n",
    "            myo_emg_input = [x for x in listener.get_emg_data()]\n",
    "            myo_sign_language_predict(myo_emg_input)\n",
    "            listener.data_clear()\n",
    "finally:\n",
    "hub.stop()  # Will also stop the thread"
   ]
  }
 ],
 "metadata": {
  "kernelspec": {
   "display_name": "Python 3",
   "language": "python",
   "name": "python3"
  },
  "language_info": {
   "codemirror_mode": {
    "name": "ipython",
    "version": 3
   },
   "file_extension": ".py",
   "mimetype": "text/x-python",
   "name": "python",
   "nbconvert_exporter": "python",
   "pygments_lexer": "ipython3",
   "version": "3.6.4"
  }
 },
 "nbformat": 4,
 "nbformat_minor": 2
}
